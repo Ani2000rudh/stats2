{
 "cells": [
  {
   "cell_type": "code",
   "execution_count": 1,
   "id": "f88fc9bb-01cd-49ce-9058-e0ab8eefe464",
   "metadata": {},
   "outputs": [
    {
     "data": {
      "text/plain": [
       "'mean,median ,mode'"
      ]
     },
     "execution_count": 1,
     "metadata": {},
     "output_type": "execute_result"
    }
   ],
   "source": [
    "#Q1. What are the three measures of central tendency?\n",
    "'''mean,median ,mode'''\n",
    "\n"
   ]
  },
  {
   "cell_type": "code",
   "execution_count": null,
   "id": "ea108072-be0c-479f-8c7d-5cf8ce1f9f93",
   "metadata": {},
   "outputs": [],
   "source": [
    "#Q2. What is the difference between the mean, median, and mode? How are they used to measure thecentral tendency of a dataset?\n",
    "\n",
    "'''mean: it the average od data set( sum of all values/ no of values(N))\n",
    "median: it is the middle indexed value in data series sorted in  assending order\n",
    "mode : it is the valve with maximum occurence in data set\n",
    "they all give the idea about central value af data set,The mean is often used when the distribution is symmetric and there are no outliers. The median is used when the distribution is skewed or there are outliers. \n",
    "The mode is used when the dataset has a discrete distribution \n",
    "and to describe the most common value in the dataset.'''"
   ]
  },
  {
   "cell_type": "code",
   "execution_count": null,
   "id": "b1f7b0ae-4313-45d8-871f-54fb35501533",
   "metadata": {},
   "outputs": [],
   "source": [
    "#Q3. Measure the three measures of central tendency for the given height data:"
   ]
  },
  {
   "cell_type": "code",
   "execution_count": 2,
   "id": "f3cf0765-55a7-4022-b162-79f24cb2bcbb",
   "metadata": {},
   "outputs": [
    {
     "data": {
      "text/plain": [
       "177.01875"
      ]
     },
     "execution_count": 2,
     "metadata": {},
     "output_type": "execute_result"
    }
   ],
   "source": [
    "import numpy as np\n",
    "import pandas as pd\n",
    "from scipy import stats\n",
    "\n",
    "x=[178,177,176,177,178.2,178,175,179,180,175,178.9,176.2,177,172.5,178,176.5]\n",
    "np.mean(x)\n"
   ]
  },
  {
   "cell_type": "code",
   "execution_count": 4,
   "id": "10a8646a-5103-45d6-9b06-563d3709e8a0",
   "metadata": {},
   "outputs": [
    {
     "data": {
      "text/plain": [
       "177.0"
      ]
     },
     "execution_count": 4,
     "metadata": {},
     "output_type": "execute_result"
    }
   ],
   "source": [
    "np.median(x)"
   ]
  },
  {
   "cell_type": "code",
   "execution_count": 5,
   "id": "ae557e4f-8e64-439b-bf6e-0a6a2e27ef17",
   "metadata": {},
   "outputs": [
    {
     "name": "stderr",
     "output_type": "stream",
     "text": [
      "/tmp/ipykernel_2193/1654510724.py:1: FutureWarning: Unlike other reduction functions (e.g. `skew`, `kurtosis`), the default behavior of `mode` typically preserves the axis it acts along. In SciPy 1.11.0, this behavior will change: the default value of `keepdims` will become False, the `axis` over which the statistic is taken will be eliminated, and the value None will no longer be accepted. Set `keepdims` to True or False to avoid this warning.\n",
      "  stats.mode(x)\n"
     ]
    },
    {
     "data": {
      "text/plain": [
       "ModeResult(mode=array([177.]), count=array([3]))"
      ]
     },
     "execution_count": 5,
     "metadata": {},
     "output_type": "execute_result"
    }
   ],
   "source": [
    "stats.mode(x)"
   ]
  },
  {
   "cell_type": "code",
   "execution_count": 6,
   "id": "7f5de4ed-a3e5-488b-b45d-a31020833a27",
   "metadata": {},
   "outputs": [
    {
     "data": {
      "text/plain": [
       "'The range is the difference between the highest and lowest values in a dataset.\\nVariance is a measure of the average deviation of each value from the mean of the dataset.\\nStandard deviation is the square root of the variance and provides a more interpretable measure of spread.\\nFor example, consider a dataset of the weights of 10 people in kilograms: 70, 75, 72, 68, 71, 73, 69, 77, 70, 72. \\nThe mean weight is 71.7 kg. The range of weights is 9 kg (77 kg - 68 kg). The variance is 8.61 kg^2, and the standard deviation is 2.94 kg.\\nThe standard deviation tells us that the weights are relatively tightly clustered around the mean, with most weights falling within 2.94 kg of the mean.\\nIn contrast, a larger standard deviation would indicate that the weights are more spread out from the mean.'"
      ]
     },
     "execution_count": 6,
     "metadata": {},
     "output_type": "execute_result"
    }
   ],
   "source": [
    "#Q5. How are measures of dispersion such as range, variance, and standard deviation used to describethe spread of a dataset? Provide an example.\n",
    "\n",
    "'''The range is the difference between the highest and lowest values in a dataset.\n",
    "Variance is a measure of the average deviation of each value from the mean of the dataset.\n",
    "Standard deviation is the square root of the variance and provides a more interpretable measure of spread.\n",
    "For example, consider a dataset of the weights of 10 people in kilograms: 70, 75, 72, 68, 71, 73, 69, 77, 70, 72. \n",
    "The mean weight is 71.7 kg. The range of weights is 9 kg (77 kg - 68 kg). The variance is 8.61 kg^2, and the standard deviation is 2.94 kg.\n",
    "The standard deviation tells us that the weights are relatively tightly clustered around the mean, with most weights falling within 2.94 kg of the mean.\n",
    "In contrast, a larger standard deviation would indicate that the weights are more spread out from the mean.'''"
   ]
  },
  {
   "cell_type": "code",
   "execution_count": null,
   "id": "f64b5c91-292d-4cc6-a5f7-da85e0e18591",
   "metadata": {},
   "outputs": [],
   "source": [
    "#Q6. What is a Venn diagram?\n",
    "\n",
    "\n",
    "#A Venn diagram is a graphical representation of sets or groups of objects "
   ]
  },
  {
   "cell_type": "code",
   "execution_count": 8,
   "id": "f07807c8-4584-41ef-8681-b1041ea8bbf4",
   "metadata": {},
   "outputs": [
    {
     "data": {
      "text/plain": [
       "{2, 6}"
      ]
     },
     "execution_count": 8,
     "metadata": {},
     "output_type": "execute_result"
    }
   ],
   "source": [
    "A = {2,3,4,5,6,7}\n",
    "B = {0,2,6,8,10}\n",
    "A.intersection(B)"
   ]
  },
  {
   "cell_type": "code",
   "execution_count": 9,
   "id": "76b81e49-4d4d-4c22-9df8-21ac4fd7ecbd",
   "metadata": {},
   "outputs": [
    {
     "data": {
      "text/plain": [
       "{0, 2, 3, 4, 5, 6, 7, 8, 10}"
      ]
     },
     "execution_count": 9,
     "metadata": {},
     "output_type": "execute_result"
    }
   ],
   "source": [
    "A.union(B)"
   ]
  },
  {
   "cell_type": "code",
   "execution_count": null,
   "id": "825909a2-d2c4-43aa-8aa2-9514915b988e",
   "metadata": {},
   "outputs": [],
   "source": [
    "#Q8. What do you understand about skewness in data?\n",
    "\n",
    "'''if the data distribution is not symetric about mean and has the maxvalues \n",
    "to either right or left it is said to be skewed'''"
   ]
  },
  {
   "cell_type": "code",
   "execution_count": null,
   "id": "84660410-f6af-46d8-9fd9-3f96a0569206",
   "metadata": {},
   "outputs": [],
   "source": [
    "#Q9. If a data is right skewed then what will be the position of median with respect to mean?\n",
    "\n",
    "#mean>median>mode"
   ]
  },
  {
   "cell_type": "code",
   "execution_count": null,
   "id": "dd9b4ff5-2e7c-4d4e-bcf2-20677a634d3b",
   "metadata": {},
   "outputs": [],
   "source": [
    "#Q10. Explain the difference between covariance and correlation. How are these measures used instatistical analysis?\n",
    "\n",
    "\n",
    "'''covarience  : gives the releation between 2 or more random varible/feature \n",
    "but not qantify the releation by magnitude   \n",
    "\n",
    "correleation:gives the releation between 2 or more random varible/feature \n",
    "but it qantify the releation by magnitude from(-1 to 1)\n",
    "\n",
    "if shows the releation between any feature of data set eith the output, \n",
    "it it is unnecessary(no correleation) it can be droped'''"
   ]
  },
  {
   "cell_type": "code",
   "execution_count": 12,
   "id": "a7f75b91-0b77-482a-a904-14a030155255",
   "metadata": {},
   "outputs": [
    {
     "data": {
      "text/plain": [
       "45"
      ]
     },
     "execution_count": 12,
     "metadata": {},
     "output_type": "execute_result"
    }
   ],
   "source": [
    "#Q11. What is the formula for calculating the sample mean? Provide an example calculation for adataset.\n",
    "\n",
    "#mean=(sum of values/no of values)\n",
    "\n",
    "x=[1,2,3,4,5,6,7,8,9]\n",
    "np.sum(x)"
   ]
  },
  {
   "cell_type": "code",
   "execution_count": 13,
   "id": "61c2cb96-9025-4562-b772-18d565a17eae",
   "metadata": {},
   "outputs": [
    {
     "data": {
      "text/plain": [
       "5.0"
      ]
     },
     "execution_count": 13,
     "metadata": {},
     "output_type": "execute_result"
    }
   ],
   "source": [
    "mean=(45/9)\n",
    "mean"
   ]
  },
  {
   "cell_type": "code",
   "execution_count": 14,
   "id": "190c7231-57dd-4950-af8e-463981ed2b70",
   "metadata": {},
   "outputs": [
    {
     "data": {
      "text/plain": [
       "'For a normal distribution, the mean, median, and mode are all equal and located at the center of the distribution'"
      ]
     },
     "execution_count": 14,
     "metadata": {},
     "output_type": "execute_result"
    }
   ],
   "source": [
    "#Q12. For a normal distribution data what is the relationship between its measure of central tendency?\n",
    "\n",
    "\"For a normal distribution, the mean, median, and mode are all equal and located at the center of the distribution\""
   ]
  },
  {
   "cell_type": "code",
   "execution_count": 15,
   "id": "10152caf-f313-4888-8c38-d9de6016b44d",
   "metadata": {},
   "outputs": [
    {
     "data": {
      "text/plain": [
       "'covarience  : gives the releation between 2 or more random varible/feature \\nbut not qantify the releation by magnitude   \\n\\ncorreleation:gives the releation between 2 or more random varible/feature \\nbut it qantify the releation by magnitude from(-1 to 1)'"
      ]
     },
     "execution_count": 15,
     "metadata": {},
     "output_type": "execute_result"
    }
   ],
   "source": [
    "#Q13. How is covariance different from correlation?\n",
    "\n",
    "'''covarience  : gives the releation between 2 or more random varible/feature \n",
    "but not qantify the releation by magnitude   \n",
    "\n",
    "correleation:gives the releation between 2 or more random varible/feature \n",
    "but it qantify the releation by magnitude from(-1 to 1)'''"
   ]
  },
  {
   "cell_type": "code",
   "execution_count": null,
   "id": "f6547fae-9970-4515-a659-efbfbab7b940",
   "metadata": {},
   "outputs": [],
   "source": [
    "\n",
    "#Q14. How do outliers affect measures of central tendency and dispersion? Provide an example.\n",
    "\n",
    "\n",
    "'''In terms of measures of central tendency, \n",
    "outliers can pull the mean in their \n",
    "direction, causing it to be skewed\n",
    "For example, suppose a dataset of test scores for a class \n",
    "of students has one student who scored significantly higher than all \n",
    "the other students. The \n",
    "range of the dataset would be increased, and the variance would be higher\n",
    "\n",
    "'''"
   ]
  },
  {
   "cell_type": "code",
   "execution_count": null,
   "id": "f6e282a3-cd70-4b2b-834c-8bae4d26ac2b",
   "metadata": {},
   "outputs": [],
   "source": []
  },
  {
   "cell_type": "code",
   "execution_count": null,
   "id": "c8af9748-2b08-4ce2-8585-78c73f7ff2e8",
   "metadata": {},
   "outputs": [],
   "source": []
  },
  {
   "cell_type": "code",
   "execution_count": null,
   "id": "a124f7cb-578f-4aea-915e-66cd1ad7617f",
   "metadata": {},
   "outputs": [],
   "source": []
  }
 ],
 "metadata": {
  "kernelspec": {
   "display_name": "Python 3 (ipykernel)",
   "language": "python",
   "name": "python3"
  },
  "language_info": {
   "codemirror_mode": {
    "name": "ipython",
    "version": 3
   },
   "file_extension": ".py",
   "mimetype": "text/x-python",
   "name": "python",
   "nbconvert_exporter": "python",
   "pygments_lexer": "ipython3",
   "version": "3.10.8"
  }
 },
 "nbformat": 4,
 "nbformat_minor": 5
}
